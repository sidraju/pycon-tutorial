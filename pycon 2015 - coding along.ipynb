{
 "cells": [
  {
   "cell_type": "code",
   "execution_count": 1,
   "metadata": {
    "collapsed": true
   },
   "outputs": [],
   "source": [
    "# creates everything like graphs and diagrams right in the notebook \n",
    "%matplotlib inline\n",
    "import pandas as pd"
   ]
  },
  {
   "cell_type": "code",
   "execution_count": 2,
   "metadata": {
    "collapsed": false
   },
   "outputs": [
    {
     "data": {
      "text/html": [
       "<style>body {\n",
       "    margin: 0;\n",
       "    font-family: Helvetica;\n",
       "}\n",
       "table.dataframe {\n",
       "    border-collapse: collapse;\n",
       "    border: none;\n",
       "}\n",
       "table.dataframe tr {\n",
       "    border: none;\n",
       "}\n",
       "table.dataframe td, table.dataframe th {\n",
       "    margin: 0;\n",
       "    border: 1px solid white;\n",
       "    padding-left: 0.25em;\n",
       "    padding-right: 0.25em;\n",
       "}\n",
       "table.dataframe th:not(:empty) {\n",
       "    background-color: #fec;\n",
       "    text-align: left;\n",
       "    font-weight: normal;\n",
       "}\n",
       "table.dataframe tr:nth-child(2) th:empty {\n",
       "    border-left: none;\n",
       "    border-right: 1px dashed #888;\n",
       "}\n",
       "table.dataframe td {\n",
       "    border: 2px solid #ccf;\n",
       "    background-color: #f4f4ff;\n",
       "}\n",
       "h3 {\n",
       "    color: white;\n",
       "    background-color: black;\n",
       "    padding: 0.5em;\n",
       "}\n",
       "</style>"
      ],
      "text/plain": [
       "<IPython.core.display.HTML object>"
      ]
     },
     "execution_count": 2,
     "metadata": {},
     "output_type": "execute_result"
    }
   ],
   "source": [
    "# this formats the dataframes into a html style sheet \n",
    "from IPython.core.display import HTML\n",
    "css = open('style-table.css').read() + open('style-notebook.css').read()\n",
    "HTML('<style>{}</style>'.format(css))"
   ]
  },
  {
   "cell_type": "code",
   "execution_count": 9,
   "metadata": {
    "collapsed": true
   },
   "outputs": [],
   "source": [
    "# creating a dataframe\n",
    "titles = pd.DataFrame.from_csv('data/titles.csv', index_col=None, encoding='utf-8')"
   ]
  },
  {
   "cell_type": "code",
   "execution_count": 10,
   "metadata": {
    "collapsed": false
   },
   "outputs": [
    {
     "data": {
      "text/html": [
       "<div>\n",
       "<table border=\"1\" class=\"dataframe\">\n",
       "  <thead>\n",
       "    <tr style=\"text-align: right;\">\n",
       "      <th></th>\n",
       "      <th>title</th>\n",
       "      <th>year</th>\n",
       "    </tr>\n",
       "  </thead>\n",
       "  <tbody>\n",
       "    <tr>\n",
       "      <th>0</th>\n",
       "      <td>Parti sans laisser d'adresse</td>\n",
       "      <td>1982</td>\n",
       "    </tr>\n",
       "    <tr>\n",
       "      <th>1</th>\n",
       "      <td>Under the Big Top</td>\n",
       "      <td>1938</td>\n",
       "    </tr>\n",
       "    <tr>\n",
       "      <th>2</th>\n",
       "      <td>The Guns of Apartheid</td>\n",
       "      <td>2016</td>\n",
       "    </tr>\n",
       "    <tr>\n",
       "      <th>3</th>\n",
       "      <td>Midnight Globe</td>\n",
       "      <td>2013</td>\n",
       "    </tr>\n",
       "    <tr>\n",
       "      <th>4</th>\n",
       "      <td>A Bridge to a Border</td>\n",
       "      <td>2014</td>\n",
       "    </tr>\n",
       "  </tbody>\n",
       "</table>\n",
       "</div>"
      ],
      "text/plain": [
       "                          title  year\n",
       "0  Parti sans laisser d'adresse  1982\n",
       "1             Under the Big Top  1938\n",
       "2         The Guns of Apartheid  2016\n",
       "3                Midnight Globe  2013\n",
       "4          A Bridge to a Border  2014"
      ]
     },
     "execution_count": 10,
     "metadata": {},
     "output_type": "execute_result"
    }
   ],
   "source": [
    "titles.head()"
   ]
  },
  {
   "cell_type": "code",
   "execution_count": 14,
   "metadata": {
    "collapsed": true
   },
   "outputs": [],
   "source": [
    "h = titles.head(5\n",
    "            )"
   ]
  },
  {
   "cell_type": "code",
   "execution_count": 15,
   "metadata": {
    "collapsed": false
   },
   "outputs": [
    {
     "data": {
      "text/html": [
       "<div>\n",
       "<table border=\"1\" class=\"dataframe\">\n",
       "  <thead>\n",
       "    <tr style=\"text-align: right;\">\n",
       "      <th></th>\n",
       "      <th>title</th>\n",
       "      <th>year</th>\n",
       "    </tr>\n",
       "  </thead>\n",
       "  <tbody>\n",
       "    <tr>\n",
       "      <th>0</th>\n",
       "      <td>Parti sans laisser d'adresse</td>\n",
       "      <td>1982</td>\n",
       "    </tr>\n",
       "  </tbody>\n",
       "</table>\n",
       "</div>"
      ],
      "text/plain": [
       "                          title  year\n",
       "0  Parti sans laisser d'adresse  1982"
      ]
     },
     "execution_count": 15,
     "metadata": {},
     "output_type": "execute_result"
    }
   ],
   "source": [
    "h.head(1)"
   ]
  },
  {
   "cell_type": "code",
   "execution_count": 17,
   "metadata": {
    "collapsed": false
   },
   "outputs": [
    {
     "data": {
      "text/plain": [
       "0    1983\n",
       "1    1939\n",
       "2    2017\n",
       "3    2014\n",
       "4    2015\n",
       "Name: year, dtype: int64"
      ]
     },
     "execution_count": 17,
     "metadata": {},
     "output_type": "execute_result"
    }
   ],
   "source": [
    "h['year']+1\n",
    "#h.year will also work...if that doesnt collide with some system attributes"
   ]
  },
  {
   "cell_type": "code",
   "execution_count": 19,
   "metadata": {
    "collapsed": false
   },
   "outputs": [],
   "source": [
    "h.yearflag = h.year>2000"
   ]
  },
  {
   "cell_type": "code",
   "execution_count": 23,
   "metadata": {
    "collapsed": false
   },
   "outputs": [
    {
     "data": {
      "text/html": [
       "<div>\n",
       "<table border=\"1\" class=\"dataframe\">\n",
       "  <thead>\n",
       "    <tr style=\"text-align: right;\">\n",
       "      <th></th>\n",
       "      <th>title</th>\n",
       "      <th>year</th>\n",
       "    </tr>\n",
       "  </thead>\n",
       "  <tbody>\n",
       "    <tr>\n",
       "      <th>2</th>\n",
       "      <td>The Guns of Apartheid</td>\n",
       "      <td>2016</td>\n",
       "    </tr>\n",
       "    <tr>\n",
       "      <th>3</th>\n",
       "      <td>Midnight Globe</td>\n",
       "      <td>2013</td>\n",
       "    </tr>\n",
       "    <tr>\n",
       "      <th>4</th>\n",
       "      <td>A Bridge to a Border</td>\n",
       "      <td>2014</td>\n",
       "    </tr>\n",
       "  </tbody>\n",
       "</table>\n",
       "</div>"
      ],
      "text/plain": [
       "                   title  year\n",
       "2  The Guns of Apartheid  2016\n",
       "3         Midnight Globe  2013\n",
       "4   A Bridge to a Border  2014"
      ]
     },
     "execution_count": 23,
     "metadata": {},
     "output_type": "execute_result"
    }
   ],
   "source": [
    "# this is almost like a where condition in SQL. lets you filter stuff. \n",
    "h[h.year>2000]"
   ]
  },
  {
   "cell_type": "code",
   "execution_count": 26,
   "metadata": {
    "collapsed": false
   },
   "outputs": [
    {
     "data": {
      "text/html": [
       "<div>\n",
       "<table border=\"1\" class=\"dataframe\">\n",
       "  <thead>\n",
       "    <tr style=\"text-align: right;\">\n",
       "      <th></th>\n",
       "      <th>title</th>\n",
       "      <th>year</th>\n",
       "    </tr>\n",
       "  </thead>\n",
       "  <tbody>\n",
       "    <tr>\n",
       "      <th>3</th>\n",
       "      <td>Midnight Globe</td>\n",
       "      <td>2013</td>\n",
       "    </tr>\n",
       "  </tbody>\n",
       "</table>\n",
       "</div>"
      ],
      "text/plain": [
       "            title  year\n",
       "3  Midnight Globe  2013"
      ]
     },
     "execution_count": 26,
     "metadata": {},
     "output_type": "execute_result"
    }
   ],
   "source": [
    "# using 'and' doesnt work. Have to use &. And doesnt work on a series. \n",
    "h[ (h.year<2014) & (h.year >1983)]"
   ]
  },
  {
   "cell_type": "code",
   "execution_count": 32,
   "metadata": {
    "collapsed": false
   },
   "outputs": [
    {
     "data": {
      "text/html": [
       "<div>\n",
       "<table border=\"1\" class=\"dataframe\">\n",
       "  <thead>\n",
       "    <tr style=\"text-align: right;\">\n",
       "      <th></th>\n",
       "      <th>title</th>\n",
       "      <th>year</th>\n",
       "    </tr>\n",
       "  </thead>\n",
       "  <tbody>\n",
       "    <tr>\n",
       "      <th>43793</th>\n",
       "      <td>Macbeth</td>\n",
       "      <td>1913</td>\n",
       "    </tr>\n",
       "    <tr>\n",
       "      <th>220493</th>\n",
       "      <td>Macbeth</td>\n",
       "      <td>1916</td>\n",
       "    </tr>\n",
       "    <tr>\n",
       "      <th>62867</th>\n",
       "      <td>Macbeth</td>\n",
       "      <td>1948</td>\n",
       "    </tr>\n",
       "    <tr>\n",
       "      <th>130418</th>\n",
       "      <td>Macbeth</td>\n",
       "      <td>1987</td>\n",
       "    </tr>\n",
       "    <tr>\n",
       "      <th>54385</th>\n",
       "      <td>Macbeth</td>\n",
       "      <td>1997</td>\n",
       "    </tr>\n",
       "  </tbody>\n",
       "</table>\n",
       "</div>"
      ],
      "text/plain": [
       "          title  year\n",
       "43793   Macbeth  1913\n",
       "220493  Macbeth  1916\n",
       "62867   Macbeth  1948\n",
       "130418  Macbeth  1987\n",
       "54385   Macbeth  1997"
      ]
     },
     "execution_count": 32,
     "metadata": {},
     "output_type": "execute_result"
    }
   ],
   "source": [
    "# series and dataframes are different\n",
    "# t.year is a series, the below is a dataframe \n",
    "t = titles \n",
    "t[t.title=='Macbeth'].sort('year')"
   ]
  },
  {
   "cell_type": "code",
   "execution_count": 33,
   "metadata": {
    "collapsed": false
   },
   "outputs": [
    {
     "data": {
      "text/plain": [
       "141035    1894\n",
       "80940     1899\n",
       "179891    1900\n",
       "122021    1900\n",
       "54595     1900\n",
       "161769    1900\n",
       "205637    1903\n",
       "170314    1905\n",
       "138621    1905\n",
       "99390     1906\n",
       "71857     1906\n",
       "3160      1906\n",
       "32680     1906\n",
       "21744     1906\n",
       "177263    1907\n",
       "70364     1907\n",
       "36850     1907\n",
       "98603     1907\n",
       "104379    1908\n",
       "128602    1908\n",
       "147599    1908\n",
       "41323     1908\n",
       "129431    1908\n",
       "177277    1908\n",
       "49797     1909\n",
       "216212    1909\n",
       "181932    1909\n",
       "59092     1909\n",
       "47064     1909\n",
       "61587     1909\n",
       "          ... \n",
       "24735     2020\n",
       "151682    2020\n",
       "24726     2020\n",
       "89348     2020\n",
       "25709     2020\n",
       "184886    2020\n",
       "193951    2020\n",
       "144435    2020\n",
       "38580     2020\n",
       "203982    2021\n",
       "168724    2021\n",
       "94384     2021\n",
       "117388    2021\n",
       "36967     2021\n",
       "775       2021\n",
       "28292     2021\n",
       "10316     2021\n",
       "76330     2021\n",
       "109066    2022\n",
       "130832    2022\n",
       "126284    2022\n",
       "217229    2022\n",
       "98820     2022\n",
       "52830     2022\n",
       "136096    2023\n",
       "153424    2023\n",
       "90643     2023\n",
       "116658    2023\n",
       "177313    2023\n",
       "162921    2023\n",
       "Name: year, dtype: int64"
      ]
     },
     "execution_count": 33,
     "metadata": {},
     "output_type": "execute_result"
    }
   ],
   "source": [
    "#series needs order. might be fixed in future version of python\n",
    "t.year.order()"
   ]
  },
  {
   "cell_type": "code",
   "execution_count": 36,
   "metadata": {
    "collapsed": false
   },
   "outputs": [
    {
     "data": {
      "text/html": [
       "<div>\n",
       "<table border=\"1\" class=\"dataframe\">\n",
       "  <thead>\n",
       "    <tr style=\"text-align: right;\">\n",
       "      <th></th>\n",
       "      <th>title</th>\n",
       "      <th>year</th>\n",
       "      <th>name</th>\n",
       "      <th>type</th>\n",
       "      <th>character</th>\n",
       "      <th>n</th>\n",
       "    </tr>\n",
       "  </thead>\n",
       "  <tbody>\n",
       "    <tr>\n",
       "      <th>0</th>\n",
       "      <td>Suuri illusioni</td>\n",
       "      <td>1985</td>\n",
       "      <td>Homo $</td>\n",
       "      <td>actor</td>\n",
       "      <td>Guests</td>\n",
       "      <td>22</td>\n",
       "    </tr>\n",
       "    <tr>\n",
       "      <th>2</th>\n",
       "      <td>Menace II Society</td>\n",
       "      <td>1993</td>\n",
       "      <td>Too $hort</td>\n",
       "      <td>actor</td>\n",
       "      <td>Lew-Loc</td>\n",
       "      <td>27</td>\n",
       "    </tr>\n",
       "    <tr>\n",
       "      <th>3</th>\n",
       "      <td>Porndogs: The Adventures of Sadie</td>\n",
       "      <td>2009</td>\n",
       "      <td>Too $hort</td>\n",
       "      <td>actor</td>\n",
       "      <td>Bosco</td>\n",
       "      <td>3</td>\n",
       "    </tr>\n",
       "  </tbody>\n",
       "</table>\n",
       "</div>"
      ],
      "text/plain": [
       "                               title  year       name   type character   n\n",
       "0                    Suuri illusioni  1985     Homo $  actor    Guests  22\n",
       "2                  Menace II Society  1993  Too $hort  actor   Lew-Loc  27\n",
       "3  Porndogs: The Adventures of Sadie  2009  Too $hort  actor     Bosco   3"
      ]
     },
     "execution_count": 36,
     "metadata": {},
     "output_type": "execute_result"
    }
   ],
   "source": [
    "h=cast.head()\n",
    "h = h[h.n.notnull()]\n",
    "h"
   ]
  },
  {
   "cell_type": "code",
   "execution_count": 38,
   "metadata": {
    "collapsed": false
   },
   "outputs": [
    {
     "data": {
      "text/plain": [
       "0    False\n",
       "2     True\n",
       "3    False\n",
       "Name: title, dtype: bool"
      ]
     },
     "execution_count": 38,
     "metadata": {},
     "output_type": "execute_result"
    }
   ],
   "source": [
    "# string operations . shit loads of them in the api documentation\n",
    "h.title.str.startswith('Men')"
   ]
  },
  {
   "cell_type": "code",
   "execution_count": 39,
   "metadata": {
    "collapsed": false
   },
   "outputs": [
    {
     "data": {
      "text/plain": [
       "<bound method Series.tail of 2016    11528\n",
       "2015     8642\n",
       "2014     8029\n",
       "2013     7593\n",
       "2012     7227\n",
       "2011     6829\n",
       "2010     6218\n",
       "2009     5984\n",
       "2008     4976\n",
       "2007     4301\n",
       "2006     4163\n",
       "2005     3919\n",
       "2017     3593\n",
       "2004     3411\n",
       "2003     3086\n",
       "2002     2933\n",
       "2001     2812\n",
       "2000     2699\n",
       "1999     2475\n",
       "1998     2359\n",
       "1997     2286\n",
       "1990     2252\n",
       "1988     2234\n",
       "1989     2184\n",
       "1991     2175\n",
       "1987     2173\n",
       "1992     2115\n",
       "1969     2094\n",
       "1970     2076\n",
       "1996     2066\n",
       "        ...  \n",
       "1942      860\n",
       "1947      838\n",
       "1930      819\n",
       "1924      798\n",
       "1943      759\n",
       "1946      759\n",
       "1929      745\n",
       "1923      720\n",
       "2018      719\n",
       "1944      712\n",
       "1945      643\n",
       "1914      547\n",
       "1913      243\n",
       "2019      145\n",
       "1912      107\n",
       "2020       72\n",
       "1911       59\n",
       "1910       22\n",
       "1909       15\n",
       "2021        9\n",
       "2023        6\n",
       "2022        6\n",
       "1908        6\n",
       "1906        5\n",
       "1900        4\n",
       "1907        4\n",
       "1905        2\n",
       "1903        1\n",
       "1899        1\n",
       "1894        1\n",
       "dtype: int64>"
      ]
     },
     "execution_count": 39,
     "metadata": {},
     "output_type": "execute_result"
    }
   ],
   "source": [
    "# to do counts \n",
    "titles.year.value_counts().tail()"
   ]
  },
  {
   "cell_type": "code",
   "execution_count": 40,
   "metadata": {
    "collapsed": false
   },
   "outputs": [
    {
     "data": {
      "text/plain": [
       "<matplotlib.axes._subplots.AxesSubplot at 0x107769710>"
      ]
     },
     "execution_count": 40,
     "metadata": {},
     "output_type": "execute_result"
    },
    {
     "data": {
      "image/png": "[encoded data removed]",
      "text/plain": [
       "<matplotlib.figure.Figure at 0x107769080>"
      ]
     },
     "metadata": {},
     "output_type": "display_data"
    }
   ],
   "source": [
    "titles.year.value_counts().plot()"
   ]
  },
  {
   "cell_type": "code",
   "execution_count": 41,
   "metadata": {
    "collapsed": false
   },
   "outputs": [
    {
     "data": {
      "text/plain": [
       "<matplotlib.axes._subplots.AxesSubplot at 0x1042594e0>"
      ]
     },
     "execution_count": 41,
     "metadata": {},
     "output_type": "execute_result"
    },
    {
     "data": {
      "image/png": "[encoded data removed]",
      "text/plain": [
       "<matplotlib.figure.Figure at 0x1078bb5c0>"
      ]
     },
     "metadata": {},
     "output_type": "display_data"
    }
   ],
   "source": [
    "titles.year.value_counts().sort_index().plot()"
   ]
  },
  {
   "cell_type": "code",
   "execution_count": 42,
   "metadata": {
    "collapsed": false
   },
   "outputs": [
    {
     "data": {
      "text/html": [
       "<div>\n",
       "<table border=\"1\" class=\"dataframe\">\n",
       "  <thead>\n",
       "    <tr style=\"text-align: right;\">\n",
       "      <th></th>\n",
       "      <th>title</th>\n",
       "      <th>year</th>\n",
       "      <th>name</th>\n",
       "      <th>type</th>\n",
       "      <th>character</th>\n",
       "      <th>n</th>\n",
       "    </tr>\n",
       "  </thead>\n",
       "  <tbody>\n",
       "    <tr>\n",
       "      <th>909064</th>\n",
       "      <td>An American Werewolf in London</td>\n",
       "      <td>1981</td>\n",
       "      <td>Jim Henson</td>\n",
       "      <td>actor</td>\n",
       "      <td>Kermit the Frog</td>\n",
       "      <td>18</td>\n",
       "    </tr>\n",
       "    <tr>\n",
       "      <th>909065</th>\n",
       "      <td>Follow That Bird</td>\n",
       "      <td>1985</td>\n",
       "      <td>Jim Henson</td>\n",
       "      <td>actor</td>\n",
       "      <td>Kermit the Frog</td>\n",
       "      <td>2</td>\n",
       "    </tr>\n",
       "    <tr>\n",
       "      <th>909070</th>\n",
       "      <td>The Great Muppet Caper</td>\n",
       "      <td>1981</td>\n",
       "      <td>Jim Henson</td>\n",
       "      <td>actor</td>\n",
       "      <td>Kermit the Frog</td>\n",
       "      <td>1</td>\n",
       "    </tr>\n",
       "    <tr>\n",
       "      <th>909078</th>\n",
       "      <td>The Muppet Movie</td>\n",
       "      <td>1979</td>\n",
       "      <td>Jim Henson</td>\n",
       "      <td>actor</td>\n",
       "      <td>Kermit the Frog</td>\n",
       "      <td>1</td>\n",
       "    </tr>\n",
       "    <tr>\n",
       "      <th>909085</th>\n",
       "      <td>The Muppets Take Manhattan</td>\n",
       "      <td>1984</td>\n",
       "      <td>Jim Henson</td>\n",
       "      <td>actor</td>\n",
       "      <td>Kermit the Frog</td>\n",
       "      <td>1</td>\n",
       "    </tr>\n",
       "  </tbody>\n",
       "</table>\n",
       "</div>"
      ],
      "text/plain": [
       "                                 title  year        name   type  \\\n",
       "909064  An American Werewolf in London  1981  Jim Henson  actor   \n",
       "909065                Follow That Bird  1985  Jim Henson  actor   \n",
       "909070          The Great Muppet Caper  1981  Jim Henson  actor   \n",
       "909078                The Muppet Movie  1979  Jim Henson  actor   \n",
       "909085      The Muppets Take Manhattan  1984  Jim Henson  actor   \n",
       "\n",
       "              character   n  \n",
       "909064  Kermit the Frog  18  \n",
       "909065  Kermit the Frog   2  \n",
       "909070  Kermit the Frog   1  \n",
       "909078  Kermit the Frog   1  \n",
       "909085  Kermit the Frog   1  "
      ]
     },
     "execution_count": 42,
     "metadata": {},
     "output_type": "execute_result"
    }
   ],
   "source": [
    "c=cast\n",
    "c=c[c.character == 'Kermit the Frog']\n",
    "c.head()"
   ]
  },
  {
   "cell_type": "code",
   "execution_count": 44,
   "metadata": {
    "collapsed": false
   },
   "outputs": [
    {
     "data": {
      "text/plain": [
       "<matplotlib.axes._subplots.AxesSubplot at 0x1085d7828>"
      ]
     },
     "execution_count": 44,
     "metadata": {},
     "output_type": "execute_result"
    },
    {
     "data": {
      "image/png": "[encoded data removed]",
      "text/plain": [
       "<matplotlib.figure.Figure at 0x1085dfa58>"
      ]
     },
     "metadata": {},
     "output_type": "display_data"
    }
   ],
   "source": [
    "c=cast\n",
    "c=c[c.character == 'Kermit the Frog']\n",
    "c.plot(x='year',y='n', kind = 'scatter')"
   ]
  },
  {
   "cell_type": "code",
   "execution_count": 45,
   "metadata": {
    "collapsed": false
   },
   "outputs": [
    {
     "data": {
      "text/plain": [
       "3455662"
      ]
     },
     "execution_count": 45,
     "metadata": {},
     "output_type": "execute_result"
    }
   ],
   "source": [
    "len(cast)"
   ]
  },
  {
   "cell_type": "code",
   "execution_count": 46,
   "metadata": {
    "collapsed": false
   },
   "outputs": [
    {
     "name": "stdout",
     "output_type": "stream",
     "text": [
      "CPU times: user 382 ms, sys: 21.7 ms, total: 404 ms\n",
      "Wall time: 418 ms\n"
     ]
    },
    {
     "data": {
      "text/html": [
       "<div>\n",
       "<table border=\"1\" class=\"dataframe\">\n",
       "  <thead>\n",
       "    <tr style=\"text-align: right;\">\n",
       "      <th></th>\n",
       "      <th>title</th>\n",
       "      <th>year</th>\n",
       "      <th>name</th>\n",
       "      <th>type</th>\n",
       "      <th>character</th>\n",
       "      <th>n</th>\n",
       "    </tr>\n",
       "  </thead>\n",
       "  <tbody>\n",
       "    <tr>\n",
       "      <th>239288</th>\n",
       "      <td>Sleuth</td>\n",
       "      <td>2007</td>\n",
       "      <td>Kenneth Branagh</td>\n",
       "      <td>actor</td>\n",
       "      <td>Other Man on T.V.</td>\n",
       "      <td>NaN</td>\n",
       "    </tr>\n",
       "    <tr>\n",
       "      <th>301244</th>\n",
       "      <td>Sleuth</td>\n",
       "      <td>1972</td>\n",
       "      <td>Michael Caine</td>\n",
       "      <td>actor</td>\n",
       "      <td>Milo Tindle</td>\n",
       "      <td>2</td>\n",
       "    </tr>\n",
       "    <tr>\n",
       "      <th>301245</th>\n",
       "      <td>Sleuth</td>\n",
       "      <td>2007</td>\n",
       "      <td>Michael Caine</td>\n",
       "      <td>actor</td>\n",
       "      <td>Andrew</td>\n",
       "      <td>1</td>\n",
       "    </tr>\n",
       "    <tr>\n",
       "      <th>344976</th>\n",
       "      <td>Sleuth</td>\n",
       "      <td>1972</td>\n",
       "      <td>Alec Cawthorne</td>\n",
       "      <td>actor</td>\n",
       "      <td>Inspector Doppler</td>\n",
       "      <td>3</td>\n",
       "    </tr>\n",
       "    <tr>\n",
       "      <th>344977</th>\n",
       "      <td>Sleuth</td>\n",
       "      <td>2007</td>\n",
       "      <td>Alec (II) Cawthorne</td>\n",
       "      <td>actor</td>\n",
       "      <td>Inspector Doppler</td>\n",
       "      <td>NaN</td>\n",
       "    </tr>\n",
       "    <tr>\n",
       "      <th>1195195</th>\n",
       "      <td>Sleuth</td>\n",
       "      <td>2007</td>\n",
       "      <td>Jude Law</td>\n",
       "      <td>actor</td>\n",
       "      <td>Milo</td>\n",
       "      <td>2</td>\n",
       "    </tr>\n",
       "    <tr>\n",
       "      <th>1339011</th>\n",
       "      <td>Sleuth</td>\n",
       "      <td>1972</td>\n",
       "      <td>Teddy Martin</td>\n",
       "      <td>actor</td>\n",
       "      <td>Police Constable Higgs</td>\n",
       "      <td>6</td>\n",
       "    </tr>\n",
       "    <tr>\n",
       "      <th>1354336</th>\n",
       "      <td>Sleuth</td>\n",
       "      <td>1972</td>\n",
       "      <td>John (II) Matthews</td>\n",
       "      <td>actor</td>\n",
       "      <td>Detective Sergeant Tarrant</td>\n",
       "      <td>4</td>\n",
       "    </tr>\n",
       "    <tr>\n",
       "      <th>1576605</th>\n",
       "      <td>Sleuth</td>\n",
       "      <td>1972</td>\n",
       "      <td>Laurence Olivier</td>\n",
       "      <td>actor</td>\n",
       "      <td>Andrew Wyke</td>\n",
       "      <td>1</td>\n",
       "    </tr>\n",
       "    <tr>\n",
       "      <th>1669276</th>\n",
       "      <td>Sleuth</td>\n",
       "      <td>2007</td>\n",
       "      <td>Harold Pinter</td>\n",
       "      <td>actor</td>\n",
       "      <td>Man on T.V.</td>\n",
       "      <td>3</td>\n",
       "    </tr>\n",
       "    <tr>\n",
       "      <th>2509651</th>\n",
       "      <td>Sleuth</td>\n",
       "      <td>2007</td>\n",
       "      <td>Eve (II) Channing</td>\n",
       "      <td>actress</td>\n",
       "      <td>Marguerite Wyke</td>\n",
       "      <td>NaN</td>\n",
       "    </tr>\n",
       "    <tr>\n",
       "      <th>2509652</th>\n",
       "      <td>Sleuth</td>\n",
       "      <td>1972</td>\n",
       "      <td>Eve (III) Channing</td>\n",
       "      <td>actress</td>\n",
       "      <td>Marguerite Wyke</td>\n",
       "      <td>5</td>\n",
       "    </tr>\n",
       "    <tr>\n",
       "      <th>3086166</th>\n",
       "      <td>Sleuth</td>\n",
       "      <td>2007</td>\n",
       "      <td>Carmel O'Sullivan</td>\n",
       "      <td>actress</td>\n",
       "      <td>Maggie</td>\n",
       "      <td>NaN</td>\n",
       "    </tr>\n",
       "  </tbody>\n",
       "</table>\n",
       "</div>"
      ],
      "text/plain": [
       "          title  year                 name     type  \\\n",
       "239288   Sleuth  2007      Kenneth Branagh    actor   \n",
       "301244   Sleuth  1972        Michael Caine    actor   \n",
       "301245   Sleuth  2007        Michael Caine    actor   \n",
       "344976   Sleuth  1972       Alec Cawthorne    actor   \n",
       "344977   Sleuth  2007  Alec (II) Cawthorne    actor   \n",
       "1195195  Sleuth  2007             Jude Law    actor   \n",
       "1339011  Sleuth  1972         Teddy Martin    actor   \n",
       "1354336  Sleuth  1972   John (II) Matthews    actor   \n",
       "1576605  Sleuth  1972     Laurence Olivier    actor   \n",
       "1669276  Sleuth  2007        Harold Pinter    actor   \n",
       "2509651  Sleuth  2007    Eve (II) Channing  actress   \n",
       "2509652  Sleuth  1972   Eve (III) Channing  actress   \n",
       "3086166  Sleuth  2007    Carmel O'Sullivan  actress   \n",
       "\n",
       "                          character   n  \n",
       "239288            Other Man on T.V. NaN  \n",
       "301244                  Milo Tindle   2  \n",
       "301245                       Andrew   1  \n",
       "344976            Inspector Doppler   3  \n",
       "344977            Inspector Doppler NaN  \n",
       "1195195                        Milo   2  \n",
       "1339011      Police Constable Higgs   6  \n",
       "1354336  Detective Sergeant Tarrant   4  \n",
       "1576605                 Andrew Wyke   1  \n",
       "1669276                 Man on T.V.   3  \n",
       "2509651             Marguerite Wyke NaN  \n",
       "2509652             Marguerite Wyke   5  \n",
       "3086166                      Maggie NaN  "
      ]
     },
     "execution_count": 46,
     "metadata": {},
     "output_type": "execute_result"
    }
   ],
   "source": [
    "%%time\n",
    "cast[cast.title=='Sleuth']"
   ]
  },
  {
   "cell_type": "code",
   "execution_count": 53,
   "metadata": {
    "collapsed": false
   },
   "outputs": [
    {
     "data": {
      "text/html": [
       "<div>\n",
       "<table border=\"1\" class=\"dataframe\">\n",
       "  <thead>\n",
       "    <tr style=\"text-align: right;\">\n",
       "      <th></th>\n",
       "      <th>year</th>\n",
       "      <th>name</th>\n",
       "      <th>type</th>\n",
       "      <th>character</th>\n",
       "      <th>n</th>\n",
       "    </tr>\n",
       "    <tr>\n",
       "      <th>title</th>\n",
       "      <th></th>\n",
       "      <th></th>\n",
       "      <th></th>\n",
       "      <th></th>\n",
       "      <th></th>\n",
       "    </tr>\n",
       "  </thead>\n",
       "  <tbody>\n",
       "    <tr>\n",
       "      <th>#1 Serial Killer</th>\n",
       "      <td>2013</td>\n",
       "      <td>Zachary (X) Brown</td>\n",
       "      <td>actor</td>\n",
       "      <td>Africian American Teen</td>\n",
       "      <td>18</td>\n",
       "    </tr>\n",
       "    <tr>\n",
       "      <th>#1 Serial Killer</th>\n",
       "      <td>2013</td>\n",
       "      <td>Aaron Aoki</td>\n",
       "      <td>actor</td>\n",
       "      <td>Plastic Bag Victim</td>\n",
       "      <td>21</td>\n",
       "    </tr>\n",
       "    <tr>\n",
       "      <th>#1 Serial Killer</th>\n",
       "      <td>2013</td>\n",
       "      <td>Jinxia Ma</td>\n",
       "      <td>actress</td>\n",
       "      <td>Chinese Teacher</td>\n",
       "      <td>24</td>\n",
       "    </tr>\n",
       "    <tr>\n",
       "      <th>#1 Serial Killer</th>\n",
       "      <td>2013</td>\n",
       "      <td>Jason Tobin</td>\n",
       "      <td>actor</td>\n",
       "      <td>Eddy Tsai</td>\n",
       "      <td>1</td>\n",
       "    </tr>\n",
       "    <tr>\n",
       "      <th>#1 Serial Killer</th>\n",
       "      <td>2013</td>\n",
       "      <td>Eugenia Yuan</td>\n",
       "      <td>actress</td>\n",
       "      <td>Karena Lee</td>\n",
       "      <td>2</td>\n",
       "    </tr>\n",
       "  </tbody>\n",
       "</table>\n",
       "</div>"
      ],
      "text/plain": [
       "                  year               name     type               character   n\n",
       "title                                                                         \n",
       "#1 Serial Killer  2013  Zachary (X) Brown    actor  Africian American Teen  18\n",
       "#1 Serial Killer  2013         Aaron Aoki    actor      Plastic Bag Victim  21\n",
       "#1 Serial Killer  2013          Jinxia Ma  actress         Chinese Teacher  24\n",
       "#1 Serial Killer  2013        Jason Tobin    actor               Eddy Tsai   1\n",
       "#1 Serial Killer  2013       Eugenia Yuan  actress              Karena Lee   2"
      ]
     },
     "execution_count": 53,
     "metadata": {},
     "output_type": "execute_result"
    }
   ],
   "source": [
    "# sets an index , instead of the default\n",
    "# works the same as a sortkey in redshift. its works fast when its ordered. \n",
    "# you can have multiple indexes too \n",
    "# reset_index resets the index\n",
    "\n",
    "c=cast.set_index(['title']).sort_index()\n",
    "c.head()"
   ]
  },
  {
   "cell_type": "code",
   "execution_count": 56,
   "metadata": {
    "collapsed": false
   },
   "outputs": [
    {
     "name": "stdout",
     "output_type": "stream",
     "text": [
      "CPU times: user 792 µs, sys: 33 µs, total: 825 µs\n",
      "Wall time: 1.07 ms\n"
     ]
    },
    {
     "data": {
      "text/html": [
       "<div>\n",
       "<table border=\"1\" class=\"dataframe\">\n",
       "  <thead>\n",
       "    <tr style=\"text-align: right;\">\n",
       "      <th></th>\n",
       "      <th>year</th>\n",
       "      <th>name</th>\n",
       "      <th>type</th>\n",
       "      <th>character</th>\n",
       "      <th>n</th>\n",
       "    </tr>\n",
       "    <tr>\n",
       "      <th>title</th>\n",
       "      <th></th>\n",
       "      <th></th>\n",
       "      <th></th>\n",
       "      <th></th>\n",
       "      <th></th>\n",
       "    </tr>\n",
       "  </thead>\n",
       "  <tbody>\n",
       "    <tr>\n",
       "      <th>The Wizard of Oz</th>\n",
       "      <td>1925</td>\n",
       "      <td>Josef Swickard</td>\n",
       "      <td>actor</td>\n",
       "      <td>Prime Minister Kruel</td>\n",
       "      <td>5</td>\n",
       "    </tr>\n",
       "    <tr>\n",
       "      <th>The Wizard of Oz</th>\n",
       "      <td>1939</td>\n",
       "      <td>Frank Morgan</td>\n",
       "      <td>actor</td>\n",
       "      <td>The Carriage Driver</td>\n",
       "      <td>2</td>\n",
       "    </tr>\n",
       "    <tr>\n",
       "      <th>The Wizard of Oz</th>\n",
       "      <td>1939</td>\n",
       "      <td>Tommy Cottonaro</td>\n",
       "      <td>actor</td>\n",
       "      <td>Bearded Munchkin</td>\n",
       "      <td>NaN</td>\n",
       "    </tr>\n",
       "    <tr>\n",
       "      <th>The Wizard of Oz</th>\n",
       "      <td>1939</td>\n",
       "      <td>Bert Lahr</td>\n",
       "      <td>actor</td>\n",
       "      <td>The Cowardly Lion</td>\n",
       "      <td>4</td>\n",
       "    </tr>\n",
       "    <tr>\n",
       "      <th>The Wizard of Oz</th>\n",
       "      <td>1939</td>\n",
       "      <td>Bert Lahr</td>\n",
       "      <td>actor</td>\n",
       "      <td>'Zeke'</td>\n",
       "      <td>4</td>\n",
       "    </tr>\n",
       "  </tbody>\n",
       "</table>\n",
       "</div>"
      ],
      "text/plain": [
       "                  year             name   type             character   n\n",
       "title                                                                   \n",
       "The Wizard of Oz  1925   Josef Swickard  actor  Prime Minister Kruel   5\n",
       "The Wizard of Oz  1939     Frank Morgan  actor   The Carriage Driver   2\n",
       "The Wizard of Oz  1939  Tommy Cottonaro  actor      Bearded Munchkin NaN\n",
       "The Wizard of Oz  1939        Bert Lahr  actor     The Cowardly Lion   4\n",
       "The Wizard of Oz  1939        Bert Lahr  actor                'Zeke'   4"
      ]
     },
     "execution_count": 56,
     "metadata": {},
     "output_type": "execute_result"
    }
   ],
   "source": [
    "%%time\n",
    "c.loc['The Wizard of Oz'].head()"
   ]
  },
  {
   "cell_type": "code",
   "execution_count": 60,
   "metadata": {
    "collapsed": false
   },
   "outputs": [
    {
     "data": {
      "text/html": [
       "<div>\n",
       "<table border=\"1\" class=\"dataframe\">\n",
       "  <thead>\n",
       "    <tr style=\"text-align: right;\">\n",
       "      <th></th>\n",
       "      <th>title</th>\n",
       "      <th>year</th>\n",
       "      <th>name</th>\n",
       "      <th>type</th>\n",
       "      <th>character</th>\n",
       "      <th>n</th>\n",
       "    </tr>\n",
       "  </thead>\n",
       "  <tbody>\n",
       "    <tr>\n",
       "      <th>0</th>\n",
       "      <td>Sleuth</td>\n",
       "      <td>2007</td>\n",
       "      <td>Carmel O'Sullivan</td>\n",
       "      <td>actress</td>\n",
       "      <td>Maggie</td>\n",
       "      <td>NaN</td>\n",
       "    </tr>\n",
       "    <tr>\n",
       "      <th>1</th>\n",
       "      <td>Sleuth</td>\n",
       "      <td>2007</td>\n",
       "      <td>Kenneth Branagh</td>\n",
       "      <td>actor</td>\n",
       "      <td>Other Man on T.V.</td>\n",
       "      <td>NaN</td>\n",
       "    </tr>\n",
       "    <tr>\n",
       "      <th>2</th>\n",
       "      <td>Sleuth</td>\n",
       "      <td>2007</td>\n",
       "      <td>Harold Pinter</td>\n",
       "      <td>actor</td>\n",
       "      <td>Man on T.V.</td>\n",
       "      <td>3</td>\n",
       "    </tr>\n",
       "    <tr>\n",
       "      <th>3</th>\n",
       "      <td>Sleuth</td>\n",
       "      <td>1972</td>\n",
       "      <td>John (II) Matthews</td>\n",
       "      <td>actor</td>\n",
       "      <td>Detective Sergeant Tarrant</td>\n",
       "      <td>4</td>\n",
       "    </tr>\n",
       "    <tr>\n",
       "      <th>4</th>\n",
       "      <td>Sleuth</td>\n",
       "      <td>1972</td>\n",
       "      <td>Laurence Olivier</td>\n",
       "      <td>actor</td>\n",
       "      <td>Andrew Wyke</td>\n",
       "      <td>1</td>\n",
       "    </tr>\n",
       "    <tr>\n",
       "      <th>5</th>\n",
       "      <td>Sleuth</td>\n",
       "      <td>2007</td>\n",
       "      <td>Jude Law</td>\n",
       "      <td>actor</td>\n",
       "      <td>Milo</td>\n",
       "      <td>2</td>\n",
       "    </tr>\n",
       "    <tr>\n",
       "      <th>6</th>\n",
       "      <td>Sleuth</td>\n",
       "      <td>1972</td>\n",
       "      <td>Teddy Martin</td>\n",
       "      <td>actor</td>\n",
       "      <td>Police Constable Higgs</td>\n",
       "      <td>6</td>\n",
       "    </tr>\n",
       "    <tr>\n",
       "      <th>7</th>\n",
       "      <td>Sleuth</td>\n",
       "      <td>2007</td>\n",
       "      <td>Eve (II) Channing</td>\n",
       "      <td>actress</td>\n",
       "      <td>Marguerite Wyke</td>\n",
       "      <td>NaN</td>\n",
       "    </tr>\n",
       "    <tr>\n",
       "      <th>8</th>\n",
       "      <td>Sleuth</td>\n",
       "      <td>2007</td>\n",
       "      <td>Alec (II) Cawthorne</td>\n",
       "      <td>actor</td>\n",
       "      <td>Inspector Doppler</td>\n",
       "      <td>NaN</td>\n",
       "    </tr>\n",
       "    <tr>\n",
       "      <th>9</th>\n",
       "      <td>Sleuth</td>\n",
       "      <td>2007</td>\n",
       "      <td>Michael Caine</td>\n",
       "      <td>actor</td>\n",
       "      <td>Andrew</td>\n",
       "      <td>1</td>\n",
       "    </tr>\n",
       "    <tr>\n",
       "      <th>10</th>\n",
       "      <td>Sleuth</td>\n",
       "      <td>1972</td>\n",
       "      <td>Michael Caine</td>\n",
       "      <td>actor</td>\n",
       "      <td>Milo Tindle</td>\n",
       "      <td>2</td>\n",
       "    </tr>\n",
       "    <tr>\n",
       "      <th>11</th>\n",
       "      <td>Sleuth</td>\n",
       "      <td>1972</td>\n",
       "      <td>Eve (III) Channing</td>\n",
       "      <td>actress</td>\n",
       "      <td>Marguerite Wyke</td>\n",
       "      <td>5</td>\n",
       "    </tr>\n",
       "    <tr>\n",
       "      <th>12</th>\n",
       "      <td>Sleuth</td>\n",
       "      <td>1972</td>\n",
       "      <td>Alec Cawthorne</td>\n",
       "      <td>actor</td>\n",
       "      <td>Inspector Doppler</td>\n",
       "      <td>3</td>\n",
       "    </tr>\n",
       "  </tbody>\n",
       "</table>\n",
       "</div>"
      ],
      "text/plain": [
       "     title  year                 name     type                   character   n\n",
       "0   Sleuth  2007    Carmel O'Sullivan  actress                      Maggie NaN\n",
       "1   Sleuth  2007      Kenneth Branagh    actor           Other Man on T.V. NaN\n",
       "2   Sleuth  2007        Harold Pinter    actor                 Man on T.V.   3\n",
       "3   Sleuth  1972   John (II) Matthews    actor  Detective Sergeant Tarrant   4\n",
       "4   Sleuth  1972     Laurence Olivier    actor                 Andrew Wyke   1\n",
       "5   Sleuth  2007             Jude Law    actor                        Milo   2\n",
       "6   Sleuth  1972         Teddy Martin    actor      Police Constable Higgs   6\n",
       "7   Sleuth  2007    Eve (II) Channing  actress             Marguerite Wyke NaN\n",
       "8   Sleuth  2007  Alec (II) Cawthorne    actor           Inspector Doppler NaN\n",
       "9   Sleuth  2007        Michael Caine    actor                      Andrew   1\n",
       "10  Sleuth  1972        Michael Caine    actor                 Milo Tindle   2\n",
       "11  Sleuth  1972   Eve (III) Channing  actress             Marguerite Wyke   5\n",
       "12  Sleuth  1972       Alec Cawthorne    actor           Inspector Doppler   3"
      ]
     },
     "execution_count": 60,
     "metadata": {},
     "output_type": "execute_result"
    }
   ],
   "source": [
    "c.loc[('Sleuth')].reset_index('title')"
   ]
  },
  {
   "cell_type": "code",
   "execution_count": 64,
   "metadata": {
    "collapsed": false
   },
   "outputs": [
    {
     "data": {
      "text/plain": [
       "title                              year  character               \n",
       "A Very Murray Christmas            2015  George Clooney              1\n",
       "Batman & Robin                     1997  Batman                      1\n",
       "                                         Bruce Wayne                 1\n",
       "Burn After Reading                 2008  Harry Pfarrer               1\n",
       "Confessions of a Dangerous Mind    2002  Jim Byrd                    1\n",
       "Curdled                            1996  Seth Gecko                  1\n",
       "Fantastic Mr. Fox                  2009  Mr. Fox                     1\n",
       "From Dusk Till Dawn                1996  Seth Gecko                  1\n",
       "Good Night, and Good Luck.         2005  Fred Friendly               1\n",
       "Gravity                            2013  Matt Kowalski               1\n",
       "Hail, Caesar!                      2016  Baird Whitlock              1\n",
       "Intolerable Cruelty                2003  Miles                       1\n",
       "Leatherheads                       2008  Dodge Connelly              1\n",
       "Michael Clayton                    2007  Michael Clayton             1\n",
       "Money Monster                      2016  Lee Gates                   1\n",
       "Morning Glory                      2010  Himself                     1\n",
       "O Brother, Where Art Thou?         2000  Everett                     1\n",
       "Ocean's Eleven                     2001  Danny Ocean                 1\n",
       "Ocean's Thirteen                   2007  Danny Ocean                 1\n",
       "Ocean's Twelve                     2004  Danny Ocean                 1\n",
       "One Fine Day                       1996  Jack Taylor                 1\n",
       "Out of Sight                       1998  Jack Foley                  1\n",
       "Return of the Killer Tomatoes!     1988  Matt Stevens                1\n",
       "Return to Horror High              1987  Oliver                      1\n",
       "Solaris                            2002  Chris Kelvin                1\n",
       "South Park: Bigger Longer & Uncut  1999  Dr. Gouache                 1\n",
       "Spy Kids                           2001  Devlin                      1\n",
       "Spy Kids 3-D: Game Over            2003  Devlin                      1\n",
       "Syriana                            2005  Bob Barnes                  1\n",
       "The American                       2010  Edward                      1\n",
       "                                         Jack                        1\n",
       "The Book That Wrote Itself         1999  Himself                     1\n",
       "The Descendants                    2011  Matt King                   1\n",
       "The Good German                    2006  Jake Geismer                1\n",
       "The Harvest                        1992  Lip Syncing Transvestite    1\n",
       "The Ides of March                  2011  Governor Mike Morris        1\n",
       "The Limey                          1999  Himself                     1\n",
       "The Men Who Stare at Goats         2009  Lyn Cassady                 1\n",
       "The Monuments Men                  2014  Frank Stokes                1\n",
       "The Peacemaker                     1997  Lt. Col. Thomas Devoe       1\n",
       "The Perfect Storm                  2000  Captain Billy Tyne          1\n",
       "The Thin Red Line                  1998  Capt. Charles Bosche        1\n",
       "Three Kings                        1999  Archie Gates                1\n",
       "Tomorrowland                       2015  Frank Walker                1\n",
       "Unbecoming Age                     1992  Mac                         1\n",
       "Up in the Air                      2009  Ryan Bingham                1\n",
       "Welcome to Collinwood              2002  Jerzy                       1\n",
       "dtype: int64"
      ]
     },
     "execution_count": 64,
     "metadata": {},
     "output_type": "execute_result"
    }
   ],
   "source": [
    "c=cast \n",
    "c=c[c.name=='George Clooney']\n",
    "c.groupby(['title','year','character']).size()"
   ]
  },
  {
   "cell_type": "code",
   "execution_count": 67,
   "metadata": {
    "collapsed": false
   },
   "outputs": [
    {
     "data": {
      "text/plain": [
       "<matplotlib.axes._subplots.AxesSubplot at 0x108e85e10>"
      ]
     },
     "execution_count": 67,
     "metadata": {},
     "output_type": "execute_result"
    },
    {
     "data": {
      "image/png": "[encoded data removed]",
      "text/plain": [
       "<matplotlib.figure.Figure at 0x108e82b70>"
      ]
     },
     "metadata": {},
     "output_type": "display_data"
    }
   ],
   "source": [
    "c=cast \n",
    "c=c[c.name=='George Clooney']\n",
    "c.groupby(['year']).size().plot(ylim=0)"
   ]
  },
  {
   "cell_type": "code",
   "execution_count": 69,
   "metadata": {
    "collapsed": false
   },
   "outputs": [
    {
     "data": {
      "text/plain": [
       "year\n",
       "1987    15\n",
       "1988     2\n",
       "1992    23\n",
       "1996     2\n",
       "1997     2\n",
       "1998    14\n",
       "1999    11\n",
       "2000     1\n",
       "2001    36\n",
       "2002    17\n",
       "2003    22\n",
       "2004     3\n",
       "2005    15\n",
       "2006     1\n",
       "2007     6\n",
       "2008     5\n",
       "2009     1\n",
       "2010     1\n",
       "2011     2\n",
       "2013     2\n",
       "2014     1\n",
       "2015     4\n",
       "2016     2\n",
       "Name: n, dtype: float64"
      ]
     },
     "execution_count": 69,
     "metadata": {},
     "output_type": "execute_result"
    }
   ],
   "source": [
    "c.groupby(['year']).n.max()"
   ]
  },
  {
   "cell_type": "code",
   "execution_count": 70,
   "metadata": {
    "collapsed": false
   },
   "outputs": [
    {
     "data": {
      "text/plain": [
       "year\n",
       "1980     2\n",
       "1990    14\n",
       "2000    20\n",
       "2010    11\n",
       "dtype: int64"
      ]
     },
     "execution_count": 70,
     "metadata": {},
     "output_type": "execute_result"
    }
   ],
   "source": [
    "c.groupby(c.year//10*10).n.size()"
   ]
  },
  {
   "cell_type": "code",
   "execution_count": 71,
   "metadata": {
    "collapsed": false
   },
   "outputs": [
    {
     "data": {
      "text/plain": [
       "year  type   \n",
       "1890  actor           2\n",
       "      actress         1\n",
       "1900  actor          54\n",
       "      actress        16\n",
       "1910  actor       26842\n",
       "      actress     15384\n",
       "1920  actor       47139\n",
       "      actress     23253\n",
       "1930  actor      148786\n",
       "      actress     48673\n",
       "1940  actor      159145\n",
       "      actress     50463\n",
       "1950  actor      152155\n",
       "      actress     55266\n",
       "1960  actor      127014\n",
       "      actress     54569\n",
       "1970  actor      144956\n",
       "      actress     62968\n",
       "1980  actor      189260\n",
       "      actress     87509\n",
       "1990  actor      254212\n",
       "      actress    120502\n",
       "2000  actor      480329\n",
       "      actress    258672\n",
       "2010  actor      608701\n",
       "      actress    339661\n",
       "2020  actor          91\n",
       "      actress        39\n",
       "dtype: int64"
      ]
     },
     "execution_count": 71,
     "metadata": {},
     "output_type": "execute_result"
    }
   ],
   "source": [
    "c=cast \n",
    "c.groupby([c.year//10*10,'type']).size()"
   ]
  },
  {
   "cell_type": "code",
   "execution_count": 105,
   "metadata": {
    "collapsed": false
   },
   "outputs": [
    {
     "data": {
      "text/html": [
       "<div>\n",
       "<table border=\"1\" class=\"dataframe\">\n",
       "  <thead>\n",
       "    <tr style=\"text-align: right;\">\n",
       "      <th>year</th>\n",
       "      <th>1970</th>\n",
       "      <th>1980</th>\n",
       "      <th>1990</th>\n",
       "      <th>2000</th>\n",
       "      <th>2010</th>\n",
       "    </tr>\n",
       "    <tr>\n",
       "      <th>character</th>\n",
       "      <th></th>\n",
       "      <th></th>\n",
       "      <th></th>\n",
       "      <th></th>\n",
       "      <th></th>\n",
       "    </tr>\n",
       "  </thead>\n",
       "  <tbody>\n",
       "    <tr>\n",
       "      <th>Kermit the Frog</th>\n",
       "      <td>1</td>\n",
       "      <td>4</td>\n",
       "      <td>2</td>\n",
       "      <td>1</td>\n",
       "      <td>1</td>\n",
       "    </tr>\n",
       "    <tr>\n",
       "      <th>Oscar the Grouch</th>\n",
       "      <td>NaN</td>\n",
       "      <td>1</td>\n",
       "      <td>1</td>\n",
       "      <td>1</td>\n",
       "      <td>NaN</td>\n",
       "    </tr>\n",
       "  </tbody>\n",
       "</table>\n",
       "</div>"
      ],
      "text/plain": [
       "year              1970  1980  1990  2000  2010\n",
       "character                                     \n",
       "Kermit the Frog      1     4     2     1     1\n",
       "Oscar the Grouch   NaN     1     1     1   NaN"
      ]
     },
     "execution_count": 105,
     "metadata": {},
     "output_type": "execute_result"
    }
   ],
   "source": [
    "# when you do a group by , the results are essentially stacked as rows \n",
    "#but by default, it tackes the innermost level of the index . in this case - it is year. \n",
    "\n",
    "c=cast\n",
    "c=c[(c.character=='Kermit the Frog')|(c.character =='Oscar the Grouch')]\n",
    "g=c.groupby(['character',c.year//10*10]).size()\n",
    "g.unstack()"
   ]
  },
  {
   "cell_type": "code",
   "execution_count": 111,
   "metadata": {
    "collapsed": false
   },
   "outputs": [
    {
     "data": {
      "text/html": [
       "<div>\n",
       "<table border=\"1\" class=\"dataframe\">\n",
       "  <thead>\n",
       "    <tr style=\"text-align: right;\">\n",
       "      <th>character</th>\n",
       "      <th>Kermit the Frog</th>\n",
       "      <th>Oscar the Grouch</th>\n",
       "    </tr>\n",
       "    <tr>\n",
       "      <th>year</th>\n",
       "      <th></th>\n",
       "      <th></th>\n",
       "    </tr>\n",
       "  </thead>\n",
       "  <tbody>\n",
       "    <tr>\n",
       "      <th>1970</th>\n",
       "      <td>1</td>\n",
       "      <td>0</td>\n",
       "    </tr>\n",
       "    <tr>\n",
       "      <th>1980</th>\n",
       "      <td>4</td>\n",
       "      <td>1</td>\n",
       "    </tr>\n",
       "    <tr>\n",
       "      <th>1990</th>\n",
       "      <td>2</td>\n",
       "      <td>1</td>\n",
       "    </tr>\n",
       "    <tr>\n",
       "      <th>2000</th>\n",
       "      <td>1</td>\n",
       "      <td>1</td>\n",
       "    </tr>\n",
       "    <tr>\n",
       "      <th>2010</th>\n",
       "      <td>1</td>\n",
       "      <td>0</td>\n",
       "    </tr>\n",
       "  </tbody>\n",
       "</table>\n",
       "</div>"
      ],
      "text/plain": [
       "character  Kermit the Frog  Oscar the Grouch\n",
       "year                                        \n",
       "1970                     1                 0\n",
       "1980                     4                 1\n",
       "1990                     2                 1\n",
       "2000                     1                 1\n",
       "2010                     1                 0"
      ]
     },
     "execution_count": 111,
     "metadata": {},
     "output_type": "execute_result"
    }
   ],
   "source": [
    "# when you unstack by something non-default it creates a table - sort of like a pivot table. \n",
    "# so you can do summary functions and then do unstack to compare values \n",
    "# this is FREAKING AWESOME\n",
    "#fillna fills nan values with what you want\n",
    "u=g.unstack(0).fillna(0)\n",
    "u"
   ]
  },
  {
   "cell_type": "code",
   "execution_count": 91,
   "metadata": {
    "collapsed": false
   },
   "outputs": [
    {
     "data": {
      "text/plain": [
       "year\n",
       "1970   NaN\n",
       "1980     3\n",
       "1990     1\n",
       "2000     0\n",
       "2010   NaN\n",
       "dtype: float64"
      ]
     },
     "execution_count": 91,
     "metadata": {},
     "output_type": "execute_result"
    }
   ],
   "source": [
    "# the above step creates a new data frame\n",
    "#use stack again to get the previous stacked version\n",
    "u['Kermit the Frog']-u['Oscar the Grouch']"
   ]
  },
  {
   "cell_type": "code",
   "execution_count": 112,
   "metadata": {
    "collapsed": false
   },
   "outputs": [
    {
     "data": {
      "text/html": [
       "<div>\n",
       "<table border=\"1\" class=\"dataframe\">\n",
       "  <thead>\n",
       "    <tr style=\"text-align: right;\">\n",
       "      <th>character</th>\n",
       "      <th>Kermit the Frog</th>\n",
       "      <th>Oscar the Grouch</th>\n",
       "    </tr>\n",
       "    <tr>\n",
       "      <th>year</th>\n",
       "      <th></th>\n",
       "      <th></th>\n",
       "    </tr>\n",
       "  </thead>\n",
       "  <tbody>\n",
       "    <tr>\n",
       "      <th>1970</th>\n",
       "      <td>1</td>\n",
       "      <td>0</td>\n",
       "    </tr>\n",
       "    <tr>\n",
       "      <th>1980</th>\n",
       "      <td>4</td>\n",
       "      <td>1</td>\n",
       "    </tr>\n",
       "    <tr>\n",
       "      <th>1990</th>\n",
       "      <td>2</td>\n",
       "      <td>1</td>\n",
       "    </tr>\n",
       "    <tr>\n",
       "      <th>2000</th>\n",
       "      <td>1</td>\n",
       "      <td>1</td>\n",
       "    </tr>\n",
       "    <tr>\n",
       "      <th>2010</th>\n",
       "      <td>1</td>\n",
       "      <td>0</td>\n",
       "    </tr>\n",
       "  </tbody>\n",
       "</table>\n",
       "</div>"
      ],
      "text/plain": [
       "character  Kermit the Frog  Oscar the Grouch\n",
       "year                                        \n",
       "1970                     1                 0\n",
       "1980                     4                 1\n",
       "1990                     2                 1\n",
       "2000                     1                 1\n",
       "2010                     1                 0"
      ]
     },
     "execution_count": 112,
     "metadata": {},
     "output_type": "execute_result"
    }
   ],
   "source": [
    "# dataframe has two indices. row and columns\n",
    "# you can choose which value to unstack by . \n",
    "# unstacking twice results in a series \n",
    "df = u\n",
    "df"
   ]
  },
  {
   "cell_type": "code",
   "execution_count": 114,
   "metadata": {
    "collapsed": false
   },
   "outputs": [],
   "source": [
    "df['extra']=1\n",
    "df\n",
    "df = df.set_index('extra',append=True, drop=True)"
   ]
  },
  {
   "cell_type": "code",
   "execution_count": 115,
   "metadata": {
    "collapsed": false
   },
   "outputs": [
    {
     "data": {
      "text/html": [
       "<div>\n",
       "<table border=\"1\" class=\"dataframe\">\n",
       "  <thead>\n",
       "    <tr>\n",
       "      <th>character</th>\n",
       "      <th colspan=\"5\" halign=\"left\">Kermit the Frog</th>\n",
       "      <th colspan=\"5\" halign=\"left\">Oscar the Grouch</th>\n",
       "    </tr>\n",
       "    <tr>\n",
       "      <th>year</th>\n",
       "      <th>1970</th>\n",
       "      <th>1980</th>\n",
       "      <th>1990</th>\n",
       "      <th>2000</th>\n",
       "      <th>2010</th>\n",
       "      <th>1970</th>\n",
       "      <th>1980</th>\n",
       "      <th>1990</th>\n",
       "      <th>2000</th>\n",
       "      <th>2010</th>\n",
       "    </tr>\n",
       "    <tr>\n",
       "      <th>extra</th>\n",
       "      <th></th>\n",
       "      <th></th>\n",
       "      <th></th>\n",
       "      <th></th>\n",
       "      <th></th>\n",
       "      <th></th>\n",
       "      <th></th>\n",
       "      <th></th>\n",
       "      <th></th>\n",
       "      <th></th>\n",
       "    </tr>\n",
       "  </thead>\n",
       "  <tbody>\n",
       "    <tr>\n",
       "      <th>1</th>\n",
       "      <td>1</td>\n",
       "      <td>4</td>\n",
       "      <td>2</td>\n",
       "      <td>1</td>\n",
       "      <td>1</td>\n",
       "      <td>0</td>\n",
       "      <td>1</td>\n",
       "      <td>1</td>\n",
       "      <td>1</td>\n",
       "      <td>0</td>\n",
       "    </tr>\n",
       "  </tbody>\n",
       "</table>\n",
       "</div>"
      ],
      "text/plain": [
       "character Kermit the Frog                     Oscar the Grouch                 \\\n",
       "year                 1970 1980 1990 2000 2010             1970 1980 1990 2000   \n",
       "extra                                                                           \n",
       "1                       1    4    2    1    1                0    1    1    1   \n",
       "\n",
       "character       \n",
       "year      2010  \n",
       "extra           \n",
       "1            0  "
      ]
     },
     "execution_count": 115,
     "metadata": {},
     "output_type": "execute_result"
    }
   ],
   "source": [
    "# think of stacking and unstacking as moving columns from left to the top in a pivot table. \n",
    "#stacking moves it to the left, unstacking moves it to the top\n",
    "df.unstack(0)"
   ]
  },
  {
   "cell_type": "code",
   "execution_count": 118,
   "metadata": {
    "collapsed": false
   },
   "outputs": [
    {
     "data": {
      "text/plain": [
       "<matplotlib.axes._subplots.AxesSubplot at 0x107a2f898>"
      ]
     },
     "execution_count": 118,
     "metadata": {},
     "output_type": "execute_result"
    },
    {
     "data": {
      "image/png": "[encoded data removed]",
      "text/plain": [
       "<matplotlib.figure.Figure at 0x107a26e10>"
      ]
     },
     "metadata": {},
     "output_type": "display_data"
    }
   ],
   "source": [
    "# so if you want to compare two values as columns, you would move it to the top in a pivot table. \n",
    "# so here you unstack it . \n",
    "c= cast \n",
    "c = c.groupby(['year','type']).size()\n",
    "c = c.unstack('type')\n",
    "(c.actor - c.actress).plot()"
   ]
  },
  {
   "cell_type": "code",
   "execution_count": 128,
   "metadata": {
    "collapsed": false
   },
   "outputs": [
    {
     "data": {
      "text/plain": [
       "<matplotlib.axes._subplots.AxesSubplot at 0x12347b550>"
      ]
     },
     "execution_count": 128,
     "metadata": {},
     "output_type": "execute_result"
    },
    {
     "data": {
      "image/png": "[encoded data removed]",
      "text/plain": [
       "<matplotlib.figure.Figure at 0x12345dd30>"
      ]
     },
     "metadata": {},
     "output_type": "display_data"
    }
   ],
   "source": [
    "# awesome example.\n",
    "#the 4th line is essentially unstacking the first level of summary i.e. groupby step \n",
    "cast.head()\n",
    "c= cast[cast.n <= 3] \n",
    "c = c.groupby(['year','type','n']).size()\n",
    "c = c.unstack('type')\n",
    "(c.actor/(c.actor + c.actress)).unstack('n').plot(ylim=[0,1])\n"
   ]
  },
  {
   "cell_type": "code",
   "execution_count": 136,
   "metadata": {
    "collapsed": false
   },
   "outputs": [
    {
     "name": "stdout",
     "output_type": "stream",
     "text": [
      "CPU times: user 528 ms, sys: 50.9 ms, total: 579 ms\n",
      "Wall time: 584 ms\n"
     ]
    }
   ],
   "source": [
    "%%time\n",
    "release_dates = pd.read_csv('data/release_dates.csv', index_col=None,\n",
    "                            parse_dates=['date'], infer_datetime_format=True)"
   ]
  },
  {
   "cell_type": "code",
   "execution_count": 141,
   "metadata": {
    "collapsed": false
   },
   "outputs": [
    {
     "data": {
      "text/html": [
       "<div>\n",
       "<table border=\"1\" class=\"dataframe\">\n",
       "  <thead>\n",
       "    <tr style=\"text-align: right;\">\n",
       "      <th></th>\n",
       "      <th>title</th>\n",
       "      <th>year</th>\n",
       "      <th>country</th>\n",
       "      <th>date</th>\n",
       "    </tr>\n",
       "  </thead>\n",
       "  <tbody>\n",
       "    <tr>\n",
       "      <th>0</th>\n",
       "      <td>#73, Shaanthi Nivaasa</td>\n",
       "      <td>2007</td>\n",
       "      <td>India</td>\n",
       "      <td>2007-06-15</td>\n",
       "    </tr>\n",
       "    <tr>\n",
       "      <th>1</th>\n",
       "      <td>#Beings</td>\n",
       "      <td>2015</td>\n",
       "      <td>Romania</td>\n",
       "      <td>2015-01-29</td>\n",
       "    </tr>\n",
       "    <tr>\n",
       "      <th>2</th>\n",
       "      <td>#Ewankosau saranghaeyo</td>\n",
       "      <td>2015</td>\n",
       "      <td>Philippines</td>\n",
       "      <td>2015-01-21</td>\n",
       "    </tr>\n",
       "    <tr>\n",
       "      <th>3</th>\n",
       "      <td>#Horror</td>\n",
       "      <td>2015</td>\n",
       "      <td>USA</td>\n",
       "      <td>2015-11-20</td>\n",
       "    </tr>\n",
       "    <tr>\n",
       "      <th>4</th>\n",
       "      <td>#Lucky Number</td>\n",
       "      <td>2015</td>\n",
       "      <td>USA</td>\n",
       "      <td>2015-09-01</td>\n",
       "    </tr>\n",
       "  </tbody>\n",
       "</table>\n",
       "</div>"
      ],
      "text/plain": [
       "                    title  year      country       date\n",
       "0   #73, Shaanthi Nivaasa  2007        India 2007-06-15\n",
       "1                 #Beings  2015      Romania 2015-01-29\n",
       "2  #Ewankosau saranghaeyo  2015  Philippines 2015-01-21\n",
       "3                 #Horror  2015          USA 2015-11-20\n",
       "4           #Lucky Number  2015          USA 2015-09-01"
      ]
     },
     "execution_count": 141,
     "metadata": {},
     "output_type": "execute_result"
    }
   ],
   "source": [
    "r = release_dates\n",
    "r.head()"
   ]
  },
  {
   "cell_type": "code",
   "execution_count": 143,
   "metadata": {
    "collapsed": false
   },
   "outputs": [
    {
     "data": {
      "text/plain": [
       "0    2007\n",
       "dtype: int64"
      ]
     },
     "execution_count": 143,
     "metadata": {},
     "output_type": "execute_result"
    }
   ],
   "source": [
    "# datetime operations can only be done on a series. not on dataframes\n",
    "r.date.dt.year.head(1)"
   ]
  },
  {
   "cell_type": "code",
   "execution_count": 145,
   "metadata": {
    "collapsed": false
   },
   "outputs": [
    {
     "data": {
      "text/html": [
       "<div>\n",
       "<table border=\"1\" class=\"dataframe\">\n",
       "  <thead>\n",
       "    <tr style=\"text-align: right;\">\n",
       "      <th></th>\n",
       "      <th>title</th>\n",
       "      <th>year</th>\n",
       "      <th>name</th>\n",
       "      <th>type</th>\n",
       "      <th>character</th>\n",
       "      <th>n</th>\n",
       "      <th>country</th>\n",
       "      <th>date</th>\n",
       "    </tr>\n",
       "  </thead>\n",
       "  <tbody>\n",
       "    <tr>\n",
       "      <th>0</th>\n",
       "      <td>An American Crime</td>\n",
       "      <td>2007</td>\n",
       "      <td>Ellen Page</td>\n",
       "      <td>actress</td>\n",
       "      <td>Sylvia Likens</td>\n",
       "      <td>1</td>\n",
       "      <td>Sweden</td>\n",
       "      <td>2007-12-07</td>\n",
       "    </tr>\n",
       "    <tr>\n",
       "      <th>1</th>\n",
       "      <td>An American Crime</td>\n",
       "      <td>2007</td>\n",
       "      <td>Ellen Page</td>\n",
       "      <td>actress</td>\n",
       "      <td>Sylvia Likens</td>\n",
       "      <td>1</td>\n",
       "      <td>Greece</td>\n",
       "      <td>2008-05-15</td>\n",
       "    </tr>\n",
       "    <tr>\n",
       "      <th>2</th>\n",
       "      <td>An American Crime</td>\n",
       "      <td>2007</td>\n",
       "      <td>Ellen Page</td>\n",
       "      <td>actress</td>\n",
       "      <td>Sylvia Likens</td>\n",
       "      <td>1</td>\n",
       "      <td>Spain</td>\n",
       "      <td>2008-06-13</td>\n",
       "    </tr>\n",
       "    <tr>\n",
       "      <th>3</th>\n",
       "      <td>An American Crime</td>\n",
       "      <td>2007</td>\n",
       "      <td>Ellen Page</td>\n",
       "      <td>actress</td>\n",
       "      <td>Sylvia Likens</td>\n",
       "      <td>1</td>\n",
       "      <td>Finland</td>\n",
       "      <td>2008-07-18</td>\n",
       "    </tr>\n",
       "    <tr>\n",
       "      <th>4</th>\n",
       "      <td>An American Crime</td>\n",
       "      <td>2007</td>\n",
       "      <td>Ellen Page</td>\n",
       "      <td>actress</td>\n",
       "      <td>Sylvia Likens</td>\n",
       "      <td>1</td>\n",
       "      <td>Mexico</td>\n",
       "      <td>2008-08-08</td>\n",
       "    </tr>\n",
       "  </tbody>\n",
       "</table>\n",
       "</div>"
      ],
      "text/plain": [
       "               title  year        name     type      character  n  country  \\\n",
       "0  An American Crime  2007  Ellen Page  actress  Sylvia Likens  1   Sweden   \n",
       "1  An American Crime  2007  Ellen Page  actress  Sylvia Likens  1   Greece   \n",
       "2  An American Crime  2007  Ellen Page  actress  Sylvia Likens  1    Spain   \n",
       "3  An American Crime  2007  Ellen Page  actress  Sylvia Likens  1  Finland   \n",
       "4  An American Crime  2007  Ellen Page  actress  Sylvia Likens  1   Mexico   \n",
       "\n",
       "        date  \n",
       "0 2007-12-07  \n",
       "1 2008-05-15  \n",
       "2 2008-06-13  \n",
       "3 2008-07-18  \n",
       "4 2008-08-08  "
      ]
     },
     "execution_count": 145,
     "metadata": {},
     "output_type": "execute_result"
    }
   ],
   "source": [
    "# merge is like a join and joins on all similar columns by default. \n",
    "# you can also mention which columns to merge on . \n",
    "c = cast \n",
    "c = c[c.name=='Ellen Page']\n",
    "c.merge(release_dates).head()"
   ]
  },
  {
   "cell_type": "code",
   "execution_count": null,
   "metadata": {
    "collapsed": true
   },
   "outputs": [],
   "source": []
  },
  {
   "cell_type": "code",
   "execution_count": null,
   "metadata": {
    "collapsed": true
   },
   "outputs": [],
   "source": []
  }
 ],
 "metadata": {
  "kernelspec": {
   "display_name": "Python 3",
   "language": "python",
   "name": "python3"
  },
  "language_info": {
   "codemirror_mode": {
    "name": "ipython",
    "version": 3
   },
   "file_extension": ".py",
   "mimetype": "text/x-python",
   "name": "python",
   "nbconvert_exporter": "python",
   "pygments_lexer": "ipython3",
   "version": "3.4.4"
  }
 },
 "nbformat": 4,
 "nbformat_minor": 0
}
